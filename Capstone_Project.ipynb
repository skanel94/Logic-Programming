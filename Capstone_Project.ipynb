{
  "nbformat": 4,
  "nbformat_minor": 0,
  "metadata": {
    "kernelspec": {
      "name": "python3",
      "display_name": "Python 3"
    },
    "colab": {
      "name": "Capstone Project.ipynb",
      "provenance": [],
      "collapsed_sections": [],
      "include_colab_link": true
    },
    "language_info": {
      "name": "python"
    },
    "accelerator": "GPU"
  },
  "cells": [
    {
      "cell_type": "markdown",
      "metadata": {
        "id": "view-in-github",
        "colab_type": "text"
      },
      "source": [
        "<a href=\"https://colab.research.google.com/github/skanelo/Logic-Programming/blob/master/Capstone_Project.ipynb\" target=\"_parent\"><img src=\"https://colab.research.google.com/assets/colab-badge.svg\" alt=\"Open In Colab\"/></a>"
      ]
    },
    {
      "cell_type": "markdown",
      "metadata": {
        "id": "vsX0L1sG1iZj"
      },
      "source": [
        "# Capstone Project\n",
        "## Neural translation model\n",
        "### Instructions\n",
        "\n",
        "In this notebook, you will create a neural network that translates from English to German. You will use concepts from throughout this course, including building more flexible model architectures, freezing layers, data processing pipeline and sequence modelling.\n",
        "\n",
        "This project is peer-assessed. Within this notebook you will find instructions in each section for how to complete the project. Pay close attention to the instructions as the peer review will be carried out according to a grading rubric that checks key parts of the project instructions. Feel free to add extra cells into the notebook as required.\n",
        "\n",
        "### How to submit\n",
        "\n",
        "When you have completed the Capstone project notebook, you will submit a pdf of the notebook for peer review. First ensure that the notebook has been fully executed from beginning to end, and all of the cell outputs are visible. This is important, as the grading rubric depends on the reviewer being able to view the outputs of your notebook. Save the notebook as a pdf (you could download the notebook with File -> Download .ipynb, open the notebook locally, and then File -> Download as -> PDF via LaTeX), and then submit this pdf for review.\n",
        "\n",
        "### Let's get started!\n",
        "\n",
        "We'll start by running some imports, and loading the dataset. For this project you are free to make further imports throughout the notebook as you wish. "
      ]
    },
    {
      "cell_type": "code",
      "metadata": {
        "id": "2VyTvxPN1iZn"
      },
      "source": [
        "import tensorflow as tf\n",
        "import tensorflow_hub as hub\n",
        "import unicodedata\n",
        "import re\n",
        "from IPython.display import Image\n",
        "\n",
        "import csv\n",
        "import random\n",
        "import numpy as np\n",
        "import matplotlib.pyplot as plt\n",
        "from tensorflow.keras.layers import Layer, Dense, Dropout, Softmax, concatenate, Embedding, LSTM\n",
        "from tensorflow.keras.models import load_model, Model\n",
        "from sklearn.model_selection import train_test_split"
      ],
      "execution_count": 57,
      "outputs": []
    },
    {
      "cell_type": "markdown",
      "metadata": {
        "id": "wuIi4lAR1iZt"
      },
      "source": [
        "For the capstone project, you will use a language dataset from http://www.manythings.org/anki/ to build a neural translation model. This dataset consists of over 200,000 pairs of sentences in English and German. In order to make the training quicker, we will restrict to our dataset to 20,000 pairs. Feel free to change this if you wish - the size of the dataset used is not part of the grading rubric.\n",
        "\n",
        "Your goal is to develop a neural translation model from English to German, making use of a pre-trained English word embedding module."
      ]
    },
    {
      "cell_type": "markdown",
      "metadata": {
        "id": "pi9Dq6vv3FVO"
      },
      "source": [
        "#### Import the data\n",
        "\n",
        "The dataset is available for download as a zip file at the following link:\n",
        "\n",
        "https://drive.google.com/open?id=1KczOciG7sYY7SB9UlBeRP1T9659b121Q\n",
        "\n",
        "You should store the unzipped folder in Drive for use in this Colab notebook."
      ]
    },
    {
      "cell_type": "code",
      "metadata": {
        "id": "Nw99tEEQ3bKL",
        "colab": {
          "base_uri": "https://localhost:8080/",
          "height": 0
        },
        "outputId": "28a67f91-4193-45bc-8de2-70b263be6078"
      },
      "source": [
        "# Run this cell to connect to your Drive folder\n",
        "\n",
        "from google.colab import drive\n",
        "drive.mount('/content/gdrive')"
      ],
      "execution_count": 3,
      "outputs": [
        {
          "output_type": "stream",
          "text": [
            "Mounted at /content/gdrive\n"
          ],
          "name": "stdout"
        }
      ]
    },
    {
      "cell_type": "code",
      "metadata": {
        "id": "zn-TrUH0jZ6p"
      },
      "source": [
        ""
      ],
      "execution_count": null,
      "outputs": []
    },
    {
      "cell_type": "code",
      "metadata": {
        "id": "o8PetPpw1iZu"
      },
      "source": [
        "# Run this cell to load the dataset\n",
        "\n",
        "NUM_EXAMPLES = 20000\n",
        "data_examples = []\n",
        "with open('deu.txt', 'r', encoding='utf8') as f:\n",
        "    for line in f.readlines():\n",
        "        if len(data_examples) < NUM_EXAMPLES:\n",
        "            data_examples.append(line)\n",
        "        else:\n",
        "            break"
      ],
      "execution_count": 11,
      "outputs": []
    },
    {
      "cell_type": "code",
      "metadata": {
        "id": "JumLjJ631iZy"
      },
      "source": [
        "# These functions preprocess English and German sentences\n",
        "\n",
        "def unicode_to_ascii(s):\n",
        "    return ''.join(c for c in unicodedata.normalize('NFD', s) if unicodedata.category(c) != 'Mn')\n",
        "\n",
        "def preprocess_sentence(sentence):\n",
        "    sentence = sentence.lower().strip()\n",
        "    sentence = re.sub(r\"ü\", 'ue', sentence)\n",
        "    sentence = re.sub(r\"ä\", 'ae', sentence)\n",
        "    sentence = re.sub(r\"ö\", 'oe', sentence)\n",
        "    sentence = re.sub(r'ß', 'ss', sentence)\n",
        "    \n",
        "    sentence = unicode_to_ascii(sentence)\n",
        "    sentence = re.sub(r\"([?.!,])\", r\" \\1 \", sentence)\n",
        "    sentence = re.sub(r\"[^a-z?.!,']+\", \" \", sentence)\n",
        "    sentence = re.sub(r'[\" \"]+', \" \", sentence)\n",
        "    \n",
        "    return sentence.strip()"
      ],
      "execution_count": 12,
      "outputs": []
    },
    {
      "cell_type": "markdown",
      "metadata": {
        "id": "XFJap-TW1iZ2"
      },
      "source": [
        "#### The custom translation model\n",
        "The following is a schematic of the custom translation model architecture you will develop in this project."
      ]
    },
    {
      "cell_type": "code",
      "metadata": {
        "id": "gBF1K2JN4RFJ",
        "colab": {
          "base_uri": "https://localhost:8080/",
          "height": 647
        },
        "outputId": "51863fa9-519b-4335-e84b-19ba51dc3775"
      },
      "source": [
        "# Run this cell to download and view a schematic diagram for the neural translation model\n",
        "\n",
        "!wget -q -O neural_translation_model.png --no-check-certificate \"https://docs.google.com/uc?export=download&id=1XsS1VlXoaEo-RbYNilJ9jcscNZvsSPmd\"\n",
        "Image(\"neural_translation_model.png\")"
      ],
      "execution_count": 13,
      "outputs": [
        {
          "output_type": "execute_result",
          "data": {
            "image/png": "[encoded data removed]",
            "text/plain": [
              "<IPython.core.display.Image object>"
            ]
          },
          "metadata": {
            "tags": []
          },
          "execution_count": 13
        }
      ]
    },
    {
      "cell_type": "markdown",
      "metadata": {
        "id": "0fP7P-yK4RS7"
      },
      "source": [
        "The custom model consists of an encoder RNN and a decoder RNN. The encoder takes words of an English sentence as input, and uses a pre-trained word embedding to embed the words into a 128-dimensional space. To indicate the end of the input sentence, a special end token (in the same 128-dimensional space) is passed in as an input. This token is a TensorFlow Variable that is learned in the training phase (unlike the pre-trained word embedding, which is frozen).\n",
        "\n",
        "The decoder RNN takes the internal state of the encoder network as its initial state. A start token is passed in as the first input, which is embedded using a learned German word embedding. The decoder RNN then makes a prediction for the next German word, which during inference is then passed in as the following input, and this process is repeated until the special `<end>` token is emitted from the decoder."
      ]
    },
    {
      "cell_type": "markdown",
      "metadata": {
        "id": "z70nu6_01iZ3"
      },
      "source": [
        "## 1. Text preprocessing\n",
        "* Create separate lists of English and German sentences, and preprocess them using the `preprocess_sentence` function provided for you above.\n",
        "* Add a special `\"<start>\"` and `\"<end>\"` token to the beginning and end of every German sentence.\n",
        "* Use the Tokenizer class from the `tf.keras.preprocessing.text` module to tokenize the German sentences, ensuring that no character filters are applied. _Hint: use the Tokenizer's \"filter\" keyword argument._\n",
        "* Print out at least 5 randomly chosen examples of (preprocessed) English and German sentence pairs. For the German sentence, print out the text (with start and end tokens) as well as the tokenized sequence.\n",
        "* Pad the end of the tokenized German sequences with zeros, and batch the complete set of sequences into one numpy array."
      ]
    },
    {
      "cell_type": "code",
      "metadata": {
        "scrolled": true,
        "id": "9G20C4bk1iZ4",
        "colab": {
          "base_uri": "https://localhost:8080/",
          "height": 0
        },
        "outputId": "0a4994f2-7b9a-45be-a2f1-581c3f366fc3"
      },
      "source": [
        "# Instantiate reader object for looping through tab separated files\n",
        "reader = csv.reader(data_examples, delimiter='\\t')\n",
        "\n",
        "# Empty lists for english and german sentences\n",
        "data_examples_en = []\n",
        "data_examples_ge = []\n",
        "\n",
        "# Loop through all sentences and add line[0] to en and list[1] to ge list\n",
        "for line in reader:\n",
        "    data_examples_en.append(line[0])\n",
        "    data_examples_ge.append(line[1])\n",
        "\n",
        "preproc_data_en = [preprocess_sentence(data) for data in data_examples_en]\n",
        "preproc_data_ge = [\"<start> \"+preprocess_sentence(data)+\" <end>\" for data in data_examples_ge]\n",
        "\n",
        "# Define tokenizer object\n",
        "tokenizer = tf.keras.preprocessing.text.Tokenizer(num_words=None, filters='')\n",
        "\n",
        "\n",
        "# Apply fit_on_texts\n",
        "tokenizer.fit_on_texts(preproc_data_ge)\n",
        "\n",
        "ger_tokens = len(tokenizer.word_index)\n",
        "\n",
        "# Transform text into sequences of integers\n",
        "preproc_data_ge_seq = tokenizer.texts_to_sequences(preproc_data_ge)\n",
        "\n",
        "# 5 random indices \n",
        "rand_inx = np.random.choice(len(preproc_data_ge), 5)\n",
        "\n",
        "for i in rand_inx:\n",
        "    print(f\"ENG: {preproc_data_en[i]} -- GER: {preproc_data_ge[i]} -- TOK_GER: {preproc_data_ge_seq[i]}\")\n",
        "\n",
        "# Pad the end of the tokenized German sequences with zeros, and batch the complete set of sequences into one numpy array.\n",
        "padded_sequences = tf.keras.preprocessing.sequence.pad_sequences(preproc_data_ge_seq, maxlen=14, padding='post')\n",
        "print(f\"\\n 'padded_sequences' is of {type(padded_sequences)} type and has shape {padded_sequences.shape}\")"
      ],
      "execution_count": 32,
      "outputs": [
        {
          "output_type": "stream",
          "text": [
            "ENG: please be honest . -- GER: <start> seien sie bitte ehrlich ! <end> -- TOK_GER: [1, 264, 8, 67, 569, 9, 2]\n",
            "ENG: it isn't a fish . -- GER: <start> das ist kein fisch . <end> -- TOK_GER: [1, 11, 6, 71, 368, 3, 2]\n",
            "ENG: do you have a son ? -- GER: <start> haben sie einen sohn ? <end> -- TOK_GER: [1, 35, 8, 40, 355, 7, 2]\n",
            "ENG: you're moody . -- GER: <start> du bist launisch . <end> -- TOK_GER: [1, 13, 32, 1336, 3, 2]\n",
            "ENG: can i talk to you ? -- GER: <start> kann ich dich sprechen ? <end> -- TOK_GER: [1, 30, 4, 28, 470, 7, 2]\n",
            "\n",
            " 'padded_sequences' is of <class 'numpy.ndarray'> type and has shape (20000, 14)\n"
          ],
          "name": "stdout"
        }
      ]
    },
    {
      "cell_type": "markdown",
      "metadata": {
        "id": "foL7Ihs21iaP"
      },
      "source": [
        "## 2. Prepare the data"
      ]
    },
    {
      "cell_type": "markdown",
      "metadata": {
        "id": "-9rCEE4z1iaQ"
      },
      "source": [
        "#### Load the embedding layer\n",
        "As part of the dataset preproceessing for this project, you will use a pre-trained English word embedding module from TensorFlow Hub. The URL for the module is https://tfhub.dev/google/tf2-preview/nnlm-en-dim128-with-normalization/1.\n",
        "\n",
        "This embedding takes a batch of text tokens in a 1-D tensor of strings as input. It then embeds the separate tokens into a 128-dimensional space. \n",
        "\n",
        "The code to load and test the embedding layer is provided for you below.\n",
        "\n",
        "**NB:** this model can also be used as a sentence embedding module. The module will process each token by removing punctuation and splitting on spaces. It then averages the word embeddings over a sentence to give a single embedding vector. However, we will use it only as a word embedding module, and will pass each word in the input sentence as a separate token."
      ]
    },
    {
      "cell_type": "code",
      "metadata": {
        "id": "ywZgobCh1iaR"
      },
      "source": [
        "# Load embedding module from Tensorflow Hub\n",
        "\n",
        "embedding_layer = hub.KerasLayer(\"https://tfhub.dev/google/tf2-preview/nnlm-en-dim128/1\", \n",
        "                                 output_shape=[128], input_shape=[], dtype=tf.string)"
      ],
      "execution_count": 17,
      "outputs": []
    },
    {
      "cell_type": "code",
      "metadata": {
        "id": "TiY8QEDp1iaV",
        "colab": {
          "base_uri": "https://localhost:8080/",
          "height": 0
        },
        "outputId": "f8bf1d06-8768-459c-c05e-4bf03180ecda"
      },
      "source": [
        "# Test the layer\n",
        "print(tf.constant([\"these\", \"aren't\", \"the\", \"droids\", \"you're\", \"looking\", \"for\"]).shape)\n",
        "embedding_layer(tf.constant([\"these\", \"aren't\", \"the\", \"droids\", \"you're\", \"looking\", \"for\"])).shape"
      ],
      "execution_count": 33,
      "outputs": [
        {
          "output_type": "stream",
          "text": [
            "(7,)\n"
          ],
          "name": "stdout"
        },
        {
          "output_type": "execute_result",
          "data": {
            "text/plain": [
              "TensorShape([7, 128])"
            ]
          },
          "metadata": {
            "tags": []
          },
          "execution_count": 33
        }
      ]
    },
    {
      "cell_type": "markdown",
      "metadata": {
        "id": "KjuzXc-z1iaY"
      },
      "source": [
        "You should now prepare the training and validation Datasets.\n",
        "\n",
        "* Create a random training and validation set split of the data, reserving e.g. 20% of the data for validation (NB: each English dataset example is a single sentence string, and each German dataset example is a sequence of padded integer tokens).\n",
        "* Load the training and validation sets into a tf.data.Dataset object, passing in a tuple of English and German data for both training and validation sets.\n",
        "* Create a function to map over the datasets that splits each English sentence at spaces. Apply this function to both Dataset objects using the map method. _Hint: look at the tf.strings.split function._\n",
        "* Create a function to map over the datasets that embeds each sequence of English words using the loaded embedding layer/model. Apply this function to both Dataset objects using the map method.\n",
        "* Create a function to filter out dataset examples where the English sentence is greater than or equal to than 13 (embedded) tokens in length. Apply this function to both Dataset objects using the filter method.\n",
        "* Create a function to map over the datasets that pads each English sequence of embeddings with some distinct padding value before the sequence, so that each sequence is length 13. Apply this function to both Dataset objects using the map method. _Hint: look at the tf.pad function. You can extract a Tensor shape using tf.shape; you might also find the tf.math.maximum function useful._\n",
        "* Batch both training and validation Datasets with a batch size of 16.\n",
        "* Print the `element_spec` property for the training and validation Datasets. \n",
        "* Using the Dataset `.take(1)` method, print the shape of the English data example from the training Dataset.\n",
        "* Using the Dataset `.take(1)` method, print the German data example Tensor from the validation Dataset."
      ]
    },
    {
      "cell_type": "code",
      "metadata": {
        "id": "Q-BUJOl_1iaZ",
        "colab": {
          "base_uri": "https://localhost:8080/",
          "height": 0
        },
        "outputId": "6e4587f2-20a1-4e73-c090-fdf281a51bbe"
      },
      "source": [
        "# Create a random training and validation set split of the data, reserving e.g. 20% of the data for validation\n",
        "en_train, en_test, ger_train, ger_test = train_test_split(preproc_data_en, padded_sequences, test_size = 0.2)\n",
        "\n",
        "# Load the training and validation sets into a tf.data.Dataset object, passing in a tuple of English and German data for both training and validation sets\n",
        "train_dataset = tf.data.Dataset.from_tensor_slices((en_train, ger_train))\n",
        "print(train_dataset.element_spec)\n",
        "test_dataset = tf.data.Dataset.from_tensor_slices((en_test, ger_test))\n",
        "print(test_dataset.element_spec, \"\\n\")\n",
        "\n",
        "# Create a function to map over the datasets that splits each English sentence at spaces\n",
        "def map_split(english, german):\n",
        "    return tf.strings.split(english), german\n",
        "    \n",
        "train_dataset=train_dataset.map(map_split)\n",
        "print(train_dataset.element_spec)\n",
        "test_dataset=test_dataset.map(map_split)\n",
        "print(test_dataset.element_spec, \"\\n\")\n",
        "\n",
        "# Create a function to map over the datasets that embeds each sequence of English words using the loaded embedding layer/model\n",
        "def map_emb(english, german):\n",
        "    return embedding_layer(english), german\n",
        "\n",
        "train_dataset=train_dataset.map(map_emb)\n",
        "print(train_dataset.element_spec)\n",
        "test_dataset=test_dataset.map(map_emb)\n",
        "print(test_dataset.element_spec, \"\\n\")\n",
        "\n",
        "# Create a function to filter out dataset examples where the English sentence is more than 13 (embedded) tokens in length\n",
        "train_dataset=train_dataset.filter(lambda x, y : len(x) <= 13)\n",
        "print(train_dataset.element_spec)\n",
        "test_dataset=test_dataset.filter(lambda x, y : len(x) <= 13)\n",
        "print(test_dataset.element_spec, \"\\n\")\n",
        "\n",
        "def pad_seq(english, german):\n",
        "    n = 13 - english.get_shape()[0]\n",
        "    paddings = tf.concat(([[n,0]], [[0,0]]), axis=0)\n",
        "    return tf.pad(english, paddings), german\n",
        "\n",
        "# Create a function to map over the datasets that pads each English sequence of embeddings\n",
        "def pad_eng_embeddings(english, german): \n",
        "    return tf.pad(english, [tf.math.maximum([13-tf.shape(english)[0] ,0], tf.constant([0,0])), tf.constant([0,0])], \"CONSTANT\", constant_values=0), german\n",
        "\n",
        "train_dataset=train_dataset.map(pad_eng_embeddings)\n",
        "print(train_dataset.element_spec)\n",
        "test_dataset=test_dataset.map(pad_eng_embeddings)\n",
        "print(test_dataset.element_spec, \"\\n\")\n",
        "\n",
        "# Batch both training and validation Datasets with a batch size of 16.\n",
        "train_dataset=train_dataset.batch(16)\n",
        "print(train_dataset.element_spec)\n",
        "test_dataset=test_dataset.batch(16)\n",
        "print(test_dataset.element_spec, \"\\n\")"
      ],
      "execution_count": 34,
      "outputs": [
        {
          "output_type": "stream",
          "text": [
            "(TensorSpec(shape=(), dtype=tf.string, name=None), TensorSpec(shape=(14,), dtype=tf.int32, name=None))\n",
            "(TensorSpec(shape=(), dtype=tf.string, name=None), TensorSpec(shape=(14,), dtype=tf.int32, name=None)) \n",
            "\n",
            "(TensorSpec(shape=(None,), dtype=tf.string, name=None), TensorSpec(shape=(14,), dtype=tf.int32, name=None))\n",
            "(TensorSpec(shape=(None,), dtype=tf.string, name=None), TensorSpec(shape=(14,), dtype=tf.int32, name=None)) \n",
            "\n",
            "(TensorSpec(shape=(None, 128), dtype=tf.float32, name=None), TensorSpec(shape=(14,), dtype=tf.int32, name=None))\n",
            "(TensorSpec(shape=(None, 128), dtype=tf.float32, name=None), TensorSpec(shape=(14,), dtype=tf.int32, name=None)) \n",
            "\n",
            "(TensorSpec(shape=(None, 128), dtype=tf.float32, name=None), TensorSpec(shape=(14,), dtype=tf.int32, name=None))\n",
            "(TensorSpec(shape=(None, 128), dtype=tf.float32, name=None), TensorSpec(shape=(14,), dtype=tf.int32, name=None)) \n",
            "\n",
            "(TensorSpec(shape=(None, 128), dtype=tf.float32, name=None), TensorSpec(shape=(14,), dtype=tf.int32, name=None))\n",
            "(TensorSpec(shape=(None, 128), dtype=tf.float32, name=None), TensorSpec(shape=(14,), dtype=tf.int32, name=None)) \n",
            "\n",
            "(TensorSpec(shape=(None, None, 128), dtype=tf.float32, name=None), TensorSpec(shape=(None, 14), dtype=tf.int32, name=None))\n",
            "(TensorSpec(shape=(None, None, 128), dtype=tf.float32, name=None), TensorSpec(shape=(None, 14), dtype=tf.int32, name=None)) \n",
            "\n"
          ],
          "name": "stdout"
        }
      ]
    },
    {
      "cell_type": "markdown",
      "metadata": {
        "id": "isIYhjq01iay"
      },
      "source": [
        "## 3. Create the custom layer\n",
        "You will now create a custom layer to add the learned end token embedding to the encoder model:"
      ]
    },
    {
      "cell_type": "code",
      "metadata": {
        "id": "e22f1Xyh6xvE",
        "colab": {
          "base_uri": "https://localhost:8080/",
          "height": 423
        },
        "outputId": "e361319b-6592-4840-f93b-1e3bfe9230b6"
      },
      "source": [
        "# Run this cell to download and view a schematic diagram for the encoder model\n",
        "\n",
        "!wget -q -O neural_translation_model.png --no-check-certificate \"https://docs.google.com/uc?export=download&id=1JrtNOzUJDaOWrK4C-xv-4wUuZaI12sQI\"\n",
        "Image(\"neural_translation_model.png\")"
      ],
      "execution_count": 35,
      "outputs": [
        {
          "output_type": "execute_result",
          "data": {
            "image/png": "[encoded data removed]",
            "text/plain": [
              "<IPython.core.display.Image object>"
            ]
          },
          "metadata": {
            "tags": []
          },
          "execution_count": 35
        }
      ]
    },
    {
      "cell_type": "markdown",
      "metadata": {
        "id": "M6gLIHG81iaz"
      },
      "source": [
        "You should now build the custom layer.\n",
        "* Using layer subclassing, create a custom layer that takes a batch of English data examples from one of the Datasets, and adds a learned embedded ‘end’ token to the end of each sequence. \n",
        "* This layer should create a TensorFlow Variable (that will be learned during training) that is 128-dimensional (the size of the embedding space). _Hint: you may find it helpful in the call method to use the tf.tile function to replicate the end token embedding across every element in the batch._\n",
        "* Using the Dataset `.take(1)` method, extract a batch of English data examples from the training Dataset and print the shape. Test the custom layer by calling the layer on the English data batch Tensor and print the resulting Tensor shape (the layer should increase the sequence length by one)."
      ]
    },
    {
      "cell_type": "code",
      "metadata": {
        "id": "yg9hjZz11ia0"
      },
      "source": [
        "class CustomLayer(Layer):\n",
        "  \n",
        "    def __init__(self, embedding_dim=128, **kwargs):\n",
        "        super(CustomLayer, self).__init__(**kwargs)\n",
        "        self.end_token_emb = tf.Variable(initial_value=tf.random.uniform(shape=(1,1,embedding_dim)),\n",
        "                                         dtype=tf.float32,\n",
        "                                         trainable=True)\n",
        "    \n",
        "    def call(self, inputs):\n",
        "        end_token = self.end_token_emb\n",
        "        end_token = tf.tile(self.end_token_emb, [tf.shape(inputs)[0],1,1])\n",
        "        return tf.keras.layers.concatenate([inputs, end_token], axis=1)"
      ],
      "execution_count": 104,
      "outputs": []
    },
    {
      "cell_type": "code",
      "metadata": {
        "id": "4PwI32O11ia3"
      },
      "source": [
        "examples = []\n",
        "for sample in train_dataset.take(1):\n",
        "    examples.append(sample)\n",
        "    break"
      ],
      "execution_count": 105,
      "outputs": []
    },
    {
      "cell_type": "code",
      "metadata": {
        "id": "ebjK8PmL1ia6",
        "colab": {
          "base_uri": "https://localhost:8080/",
          "height": 0
        },
        "outputId": "4698e3b4-3175-4bdd-8b3a-d044d2380396"
      },
      "source": [
        "print(examples[0][0].shape)\n",
        "\n",
        "custom_layer = CustomLayer(input_shape=examples[0][0].shape)\n",
        "output = custom_layer(examples[0][0])\n",
        "\n",
        "print(output.shape)"
      ],
      "execution_count": 106,
      "outputs": [
        {
          "output_type": "stream",
          "text": [
            "(16, 13, 128)\n",
            "(16, 14, 128)\n"
          ],
          "name": "stdout"
        }
      ]
    },
    {
      "cell_type": "markdown",
      "metadata": {
        "id": "OAd3i4_y1ia-"
      },
      "source": [
        "## 4. Build the encoder network\n",
        "The encoder network follows the schematic diagram above. You should now build the RNN encoder model.\n",
        "* Using the functional API, build the encoder network according to the following spec:\n",
        "    * The model will take a batch of sequences of embedded English words as input, as given by the Dataset objects.\n",
        "    * The next layer in the encoder will be the custom layer you created previously, to add a learned end token embedding to the end of the English sequence.\n",
        "    * This is followed by a Masking layer, with the `mask_value` set to the distinct padding value you used when you padded the English sequences with the Dataset preprocessing above.\n",
        "    * The final layer is an LSTM layer with 512 units, which also returns the hidden and cell states.\n",
        "    * The encoder is a multi-output model. There should be two output Tensors of this model: the hidden state and cell states of the LSTM layer. The output of the LSTM layer is unused.\n",
        "* Using the Dataset `.take(1)` method, extract a batch of English data examples from the training Dataset and test the encoder model by calling it on the English data Tensor, and print the shape of the resulting Tensor outputs.\n",
        "* Print the model summary for the encoder network."
      ]
    },
    {
      "cell_type": "code",
      "metadata": {
        "id": "6R2LqbfV1ia_",
        "colab": {
          "base_uri": "https://localhost:8080/",
          "height": 0
        },
        "outputId": "b69fde22-716c-4907-f05e-91f8b3b3c165"
      },
      "source": [
        "input_layer = tf.keras.layers.Input(shape=(13,128))\n",
        "x = CustomLayer()(input_layer)\n",
        "x = tf.keras.layers.Masking(mask_value=0.0)(x)\n",
        "lstm_output, hidden_state, cell_state = tf.keras.layers.LSTM(units=512, return_state=True, return_sequences=True)(x)\n",
        "\n",
        "model = tf.keras.models.Model(inputs=input_layer, outputs=[hidden_state, cell_state])\n",
        "\n",
        "# Take an example from the batch as input\n",
        "state_h, state_c = model(examples[0][0])\n",
        "\n",
        "# Print the shapes of the outputs\n",
        "print(\"hidden_state shape:\", state_h.shape)\n",
        "print(\"cell_state shape:\", state_c.shape, \"\\n\")\n",
        "\n",
        "# Print the model summary\n",
        "model.summary()"
      ],
      "execution_count": 107,
      "outputs": [
        {
          "output_type": "stream",
          "text": [
            "hidden_state shape: (16, 512)\n",
            "cell_state shape: (16, 512) \n",
            "\n",
            "Model: \"model_4\"\n",
            "_________________________________________________________________\n",
            "Layer (type)                 Output Shape              Param #   \n",
            "=================================================================\n",
            "input_5 (InputLayer)         [(None, 13, 128)]         0         \n",
            "_________________________________________________________________\n",
            "custom_layer_7 (CustomLayer) (None, 14, 128)           128       \n",
            "_________________________________________________________________\n",
            "masking_4 (Masking)          (None, 14, 128)           0         \n",
            "_________________________________________________________________\n",
            "lstm_7 (LSTM)                [(None, 14, 512), (None,  1312768   \n",
            "=================================================================\n",
            "Total params: 1,312,896\n",
            "Trainable params: 1,312,896\n",
            "Non-trainable params: 0\n",
            "_________________________________________________________________\n"
          ],
          "name": "stdout"
        }
      ]
    },
    {
      "cell_type": "markdown",
      "metadata": {
        "id": "KvkzpCeZ1ibR"
      },
      "source": [
        "## 5. Build the decoder network\n",
        "The decoder network follows the schematic diagram below. "
      ]
    },
    {
      "cell_type": "code",
      "metadata": {
        "id": "yOjEb7cH7Y4S",
        "colab": {
          "base_uri": "https://localhost:8080/",
          "height": 501
        },
        "outputId": "c83342a7-8b5a-4c95-ffe2-d36ced21e2c9"
      },
      "source": [
        "# Run this cell to download and view a schematic diagram for the decoder model\n",
        "\n",
        "!wget -q -O neural_translation_model.png --no-check-certificate \"https://docs.google.com/uc?export=download&id=1DTeaXD8tA8RjkpVrB2mr9csSBOY4LQiW\"\n",
        "Image(\"neural_translation_model.png\")"
      ],
      "execution_count": 24,
      "outputs": [
        {
          "output_type": "execute_result",
          "data": {
            "image/png": "[encoded data removed]",
            "text/plain": [
              "<IPython.core.display.Image object>"
            ]
          },
          "metadata": {
            "tags": []
          },
          "execution_count": 24
        }
      ]
    },
    {
      "cell_type": "markdown",
      "metadata": {
        "id": "VPBK8WGL1ibS"
      },
      "source": [
        "You should now build the RNN decoder model.\n",
        "* Using Model subclassing, build the decoder network according to the following spec:\n",
        "    * The initializer should create the following layers:\n",
        "        * An Embedding layer with vocabulary size set to the number of unique German tokens, embedding dimension 128, and set to mask zero values in the input.\n",
        "        * An LSTM layer with 512 units, that returns its hidden and cell states, and also returns sequences.\n",
        "        * A Dense layer with number of units equal to the number of unique German tokens, and no activation function.\n",
        "    * The call method should include the usual `inputs` argument, as well as the additional keyword arguments `hidden_state` and `cell_state`. The default value for these keyword arguments should be `None`.\n",
        "    * The call method should pass the inputs through the Embedding layer, and then through the LSTM layer. If the `hidden_state` and `cell_state` arguments are provided, these should be used for the initial state of the LSTM layer. _Hint: use the_ `initial_state` _keyword argument when calling the LSTM layer on its input._\n",
        "    * The call method should pass the LSTM output sequence through the Dense layer, and return the resulting Tensor, along with the hidden and cell states of the LSTM layer.\n",
        "* Using the Dataset `.take(1)` method, extract a batch of English and German data examples from the training Dataset. Test the decoder model by first calling the encoder model on the English data Tensor to get the hidden and cell states, and then call the decoder model on the German data Tensor and hidden and cell states, and print the shape of the resulting decoder Tensor outputs.\n",
        "* Print the model summary for the decoder network."
      ]
    },
    {
      "cell_type": "code",
      "metadata": {
        "id": "l50qhnXD1ibT"
      },
      "source": [
        "class Decoder(Model):\n",
        "    def __init__(self, ger_tokens, **kwargs):\n",
        "        super(Decoder, self).__init__(**kwargs)\n",
        "\n",
        "        self.emb_layer = Embedding(input_dim=ger_tokens+1 , output_dim=128, mask_zero=True)\n",
        "        self.lstm_layer = LSTM(units=512, return_state=True, return_sequences=True)\n",
        "        self.dense_layer = Dense(units=ger_tokens+1, activation=None)\n",
        "\n",
        "    def call(self, inputs, h_s=None, c_s=None):\n",
        "        h = self.emb_layer(inputs)\n",
        "\n",
        "        if (h_s is None) or (c_s is None):\n",
        "            h, h_s, c_s = self.lstm_layer(h)\n",
        "        else:\n",
        "            h, h_s, c_s = self.lstm_layer(h, initial_state=(h_s, c_s))\n",
        "        \n",
        "        out = self.dense_layer(h)\n",
        "\n",
        "        return out, h_s, c_s"
      ],
      "execution_count": 108,
      "outputs": []
    },
    {
      "cell_type": "code",
      "metadata": {
        "id": "vG5CRIXV1ibi",
        "colab": {
          "base_uri": "https://localhost:8080/",
          "height": 0
        },
        "outputId": "f9ac9b21-de89-41dd-b500-d31657e25d74"
      },
      "source": [
        "hidden_state, cell_state = model(examples[0][0])\n",
        "decoder_model = Decoder(ger_tokens)\n",
        "output, decoder_hs, decoder_cs= decoder_model(examples[0][1])\n",
        "\n",
        "print(\"output shape:\", output.shape)"
      ],
      "execution_count": 109,
      "outputs": [
        {
          "output_type": "stream",
          "text": [
            "output shape: (16, 14, 5744)\n"
          ],
          "name": "stdout"
        }
      ]
    },
    {
      "cell_type": "code",
      "metadata": {
        "id": "SvqqT_ET1ibl",
        "colab": {
          "base_uri": "https://localhost:8080/",
          "height": 0
        },
        "outputId": "fb7ac668-a21d-4e0e-d247-c606ec4f751f"
      },
      "source": [
        "decoder_model.summary()"
      ],
      "execution_count": 110,
      "outputs": [
        {
          "output_type": "stream",
          "text": [
            "Model: \"decoder_3\"\n",
            "_________________________________________________________________\n",
            "Layer (type)                 Output Shape              Param #   \n",
            "=================================================================\n",
            "embedding_3 (Embedding)      multiple                  735232    \n",
            "_________________________________________________________________\n",
            "lstm_8 (LSTM)                multiple                  1312768   \n",
            "_________________________________________________________________\n",
            "dense_3 (Dense)              multiple                  2946672   \n",
            "=================================================================\n",
            "Total params: 4,994,672\n",
            "Trainable params: 4,994,672\n",
            "Non-trainable params: 0\n",
            "_________________________________________________________________\n"
          ],
          "name": "stdout"
        }
      ]
    },
    {
      "cell_type": "markdown",
      "metadata": {
        "id": "pST9XGJ81ibo"
      },
      "source": [
        "## 6. Make a custom training loop\n",
        "You should now write a custom training loop to train your custom neural translation model.\n",
        "* Define a function that takes a Tensor batch of German data (as extracted from the training Dataset), and returns a tuple containing German inputs and outputs for the decoder model (refer to schematic diagram above).\n",
        "* Define a function that computes the forward and backward pass for your translation model. This function should take an English input, German input and German output as arguments, and should do the following:\n",
        "    * Pass the English input into the encoder, to get the hidden and cell states of the encoder LSTM.\n",
        "    * These hidden and cell states are then passed into the decoder, along with the German inputs, which returns a sequence of outputs (the hidden and cell state outputs of the decoder LSTM are unused in this function).\n",
        "    * The loss should then be computed between the decoder outputs and the German output function argument.\n",
        "    * The function returns the loss and gradients with respect to the encoder and decoder’s trainable variables.\n",
        "    * Decorate the function with `@tf.function`\n",
        "* Define and run a custom training loop for a number of epochs (for you to choose) that does the following:\n",
        "    * Iterates through the training dataset, and creates decoder inputs and outputs from the German sequences.\n",
        "    * Updates the parameters of the translation model using the gradients of the function above and an optimizer object.\n",
        "    * Every epoch, compute the validation loss on a number of batches from the validation and save the epoch training and validation losses.\n",
        "* Plot the learning curves for loss vs epoch for both training and validation sets.\n",
        "\n",
        "_Hint: This model is computationally demanding to train. The quality of the model or length of training is not a factor in the grading rubric. However, to obtain a better model we recommend using the GPU accelerator hardware on Colab._"
      ]
    },
    {
      "cell_type": "code",
      "metadata": {
        "id": "7hJHbWqs1ibr",
        "colab": {
          "base_uri": "https://localhost:8080/",
          "height": 0
        },
        "outputId": "18149cc3-f4e7-48c7-c8be-d934b936b67a"
      },
      "source": [
        "optimizer = tf.keras.optimizers.Adam()\n",
        "loss_object = tf.keras.losses.SparseCategoricalCrossentropy(from_logits=True)\n",
        "\n",
        "import time\n",
        "\n",
        "start_time = time.time()\n",
        "\n",
        "epochs=4\n",
        "\n",
        "def german_output(data):\n",
        "    return (tf.cast(data[:,0:-1], tf.float32), tf.cast(data[:, 1:], tf.float32))\n",
        "\n",
        "@tf.function\n",
        "def grad(eng_input, ger_input, ger_output):\n",
        "    global model, decoder_model\n",
        "    \n",
        "    with tf.GradientTape() as tape:\n",
        "        encoder_hs, encoder_cs = model(eng_input)\n",
        "        decoder_output, decoder_hs, decoder_cs = decoder_model(ger_input, encoder_hs, encoder_cs)\n",
        "        loss_value = loss_object(y_true=ger_output, y_pred=decoder_output)\n",
        "    return loss_value, tape.gradient (loss_value, model.trainable_variables+decoder_model.trainable_variables)\n",
        "\n",
        "train_loss_results=[]\n",
        "val_loss_results=[]\n",
        "\n",
        "for epoch in range(epochs):\n",
        "    epoch_loss_avg = tf.keras.metrics.Mean()\n",
        "    epoch_val_loss_avg = tf.keras.metrics.Mean()\n",
        "    \n",
        "    for x, y in train_dataset:\n",
        "        dec_inp, dec_out = german_output(y)\n",
        "        loss_value, grads = grad(x, dec_inp, dec_out)\n",
        "        optimizer.apply_gradients(zip(grads, model.trainable_variables+decoder_model.trainable_variables))\n",
        "        epoch_loss_avg(loss_value)\n",
        "        \n",
        "    train_loss_results.append(epoch_loss_avg.result())\n",
        "\n",
        "    for x, y in test_dataset:\n",
        "        dec_inp, dec_out = german_output(y)\n",
        "        loss_value, grads = grad(x, dec_inp, dec_out)\n",
        "        epoch_val_loss_avg(loss_value) \n",
        "    \n",
        "    val_loss_results.append(epoch_val_loss_avg.result())\n",
        "\n",
        "    print (\"Epoch {:03d}: Loss: {:.3f} Val Loss: {:.3f} --- Total Duration: {:.3f}\".format(epoch, epoch_loss_avg.result(), epoch_val_loss_avg.result(), time.time()-start_time))"
      ],
      "execution_count": 111,
      "outputs": [
        {
          "output_type": "stream",
          "text": [
            "Epoch 000: Loss: 5.401 Val Loss: 4.760 --- Total Duration: 63.184\n",
            "Epoch 001: Loss: 4.267 Val Loss: 3.940 --- Total Duration: 123.786\n",
            "Epoch 002: Loss: 3.389 Val Loss: 3.228 --- Total Duration: 184.407\n",
            "Epoch 003: Loss: 2.580 Val Loss: 2.576 --- Total Duration: 245.371\n"
          ],
          "name": "stdout"
        }
      ]
    },
    {
      "cell_type": "code",
      "metadata": {
        "id": "Jvu4J4-u1ibu",
        "colab": {
          "base_uri": "https://localhost:8080/",
          "height": 350
        },
        "outputId": "9c00aaed-891d-44d3-88b5-ca415088c3be"
      },
      "source": [
        "# Plot the training training loss and validation loss\n",
        "plt.figure(figsize=(11,5))\n",
        "plt.plot(train_loss_results)\n",
        "plt.plot(val_loss_results)\n",
        "plt.title('Loss vs. Val Loss')\n",
        "plt.ylabel('Loss')\n",
        "plt.xlabel('Epochs')\n",
        "plt.legend(['Training', 'Validation'], loc='upper right')\n",
        "plt.show() "
      ],
      "execution_count": 115,
      "outputs": [
        {
          "output_type": "display_data",
          "data": {
            "image/png": "[encoded data removed]",
            "text/plain": [
              "<Figure size 792x360 with 1 Axes>"
            ]
          },
          "metadata": {
            "tags": [],
            "needs_background": "light"
          }
        }
      ]
    },
    {
      "cell_type": "markdown",
      "metadata": {
        "id": "xM2gvBM11ib-"
      },
      "source": [
        "## 7. Use the model to translate\n",
        "Now it's time to put your model into practice! You should run your translation for five randomly sampled English sentences from the dataset. For each sentence, the process is as follows:\n",
        "* Preprocess and embed the English sentence according to the model requirements.\n",
        "* Pass the embedded sentence through the encoder to get the encoder hidden and cell states.\n",
        "* Starting with the special  `\"<start>\"` token, use this token and the final encoder hidden and cell states to get the one-step prediction from the decoder, as well as the decoder’s updated hidden and cell states.\n",
        "* Create a loop to get the next step prediction and updated hidden and cell states from the decoder, using the most recent hidden and cell states. Terminate the loop when the `\"<end>\"` token is emitted, or when the sentence has reached a maximum length.\n",
        "* Decode the output token sequence into German text and print the English text and the model's German translation."
      ]
    },
    {
      "cell_type": "code",
      "metadata": {
        "id": "J_OnD5h10V4q"
      },
      "source": [
        "def translate(sentence):\n",
        "    def preprocess_eng(eng, maxlen=13):\n",
        "        eng = tf.strings.split(eng)\n",
        "        eng_em = embedding_layer(eng)\n",
        "        padding = [[tf.math.maximum(maxlen-tf.shape(eng_em)[0],0), 0], [0,0]]\n",
        "        return tf.pad(eng_em, padding)\n",
        "  \n",
        "    eng_inp = preprocess_eng(sentence)\n",
        "    hidden, cell = model(tf.expand_dims(eng_inp, 0))\n",
        "    german_word = tf.Variable([[tokenizer.word_index['<start>']]])\n",
        "    german_sent = []\n",
        "\n",
        "    while len(german_sent) < 15:\n",
        "        decoder_outputs, hidden, cell = decoder_model(german_word, hidden, cell)\n",
        "        decoder_outputs = tf.squeeze(tf.argmax(decoder_outputs, axis=2)).numpy()\n",
        "        if decoder_outputs == tokenizer.word_index['<end>']:\n",
        "            break\n",
        "        german_sent.append(tokenizer.index_word[decoder_outputs])\n",
        "        german_word = tf.Variable([[decoder_outputs]])\n",
        "\n",
        "    print(f'English sentence:\\t{sentence}')\n",
        "    print(f'German translation:\\t{german_sent}')"
      ],
      "execution_count": 116,
      "outputs": []
    },
    {
      "cell_type": "code",
      "metadata": {
        "id": "ohleJRcJ1icD",
        "colab": {
          "base_uri": "https://localhost:8080/"
        },
        "outputId": "52366f44-c3f3-453c-8497-9577a99297c1"
      },
      "source": [
        "sample_index = np.random.choice(len(preproc_data_ge), size=5, replace=False)\n",
        "de_sentences_example = [preprocess_sentence(data.split(\"\\t\")[1]) for data in data_examples]\n",
        "\n",
        "for i in sample_index:\n",
        "    sentence = preproc_data_en[i]\n",
        "    translate(sentence)\n",
        "    print(f'True German sentence:\\t{de_sentences_example[i]}\\n')"
      ],
      "execution_count": 125,
      "outputs": [
        {
          "output_type": "stream",
          "text": [
            "English sentence:\tgo have a beer .\n",
            "German translation:\t['geh', 'ein', 'wenig', 'naeher', '.']\n",
            "True German sentence:\tkomm , trink ein bier !\n",
            "\n",
            "English sentence:\tplease stop !\n",
            "German translation:\t['bitte', 'beeile', 'dich', '!']\n",
            "True German sentence:\thalten sie bitte an !\n",
            "\n",
            "English sentence:\ti'm conscientious .\n",
            "German translation:\t['ich', 'bin', 'sehr', 'versichert', '.']\n",
            "True German sentence:\tich bin gewissenhaft .\n",
            "\n",
            "English sentence:\ti need a map .\n",
            "German translation:\t['ich', 'brauche', 'einen', 'scheidung', '.']\n",
            "True German sentence:\tich brauche eine karte .\n",
            "\n",
            "English sentence:\ttom is delighted .\n",
            "German translation:\t['tom', 'ist', 'unermuedlich', '.']\n",
            "True German sentence:\ttom ist begeistert .\n",
            "\n"
          ],
          "name": "stdout"
        }
      ]
    },
    {
      "cell_type": "code",
      "metadata": {
        "id": "KRt0OuUpKKcG"
      },
      "source": [
        ""
      ],
      "execution_count": null,
      "outputs": []
    }
  ]
}